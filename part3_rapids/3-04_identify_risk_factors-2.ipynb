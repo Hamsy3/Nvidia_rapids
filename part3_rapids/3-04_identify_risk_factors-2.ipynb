{
 "cells": [
  {
   "cell_type": "markdown",
   "metadata": {},
   "source": [
    "# Week 3: Identify Risk Factors for Infection"
   ]
  },
  {
   "cell_type": "markdown",
   "metadata": {},
   "source": [
    "<span style=\"color:red\">\n",
    "**UPDATE**\n",
    "\n",
    "Thank you again for the previous analysis. We will next be publishing a public health advisory that warns of specific infection risk factors of which individuals should be aware. Please advise as to which population characteristics are associated with higher infection rates. \n",
    "</span>\n",
    "\n",
    "Your goal for this notebook will be to identify key potential demographic and economic risk factors for infection by comparing the infected and uninfected populations."
   ]
  },
  {
   "cell_type": "markdown",
   "metadata": {},
   "source": [
    "## Imports"
   ]
  },
  {
   "cell_type": "code",
   "execution_count": 51,
   "metadata": {},
   "outputs": [],
   "source": [
    "import cudf\n",
    "import cuml"
   ]
  },
  {
   "cell_type": "code",
   "execution_count": 52,
   "metadata": {},
   "outputs": [],
   "source": [
    "import numpy as np"
   ]
  },
  {
   "cell_type": "markdown",
   "metadata": {},
   "source": [
    "## Load Data"
   ]
  },
  {
   "cell_type": "markdown",
   "metadata": {},
   "source": [
    "Begin by loading the data you've received about week 3 of the outbreak into a cuDF data frame. The data is located at `./data/week3.csv`. For this notebook you will need all columns of the data."
   ]
  },
  {
   "cell_type": "code",
   "execution_count": 53,
   "metadata": {},
   "outputs": [
    {
     "name": "stdout",
     "output_type": "stream",
     "text": [
      "age             int64\n",
      "sex            object\n",
      "employment     object\n",
      "infected      float64\n",
      "dtype: object\n"
     ]
    },
    {
     "data": {
      "text/plain": [
       "(58479894, 4)"
      ]
     },
     "execution_count": 53,
     "metadata": {},
     "output_type": "execute_result"
    }
   ],
   "source": [
    "gdf = cudf.read_csv('./data/week3.csv')\n",
    "print(gdf.dtypes)\n",
    "gdf.shape"
   ]
  },
  {
   "cell_type": "markdown",
   "metadata": {},
   "source": [
    "## Calculate Infection Rates by Employment Code"
   ]
  },
  {
   "cell_type": "markdown",
   "metadata": {},
   "source": [
    "Convert the `infected` column to type `float32`. For people who are not infected, the float32 `infected` value should be `0.0`, and for infected people it should be `1.0`."
   ]
  },
  {
   "cell_type": "code",
   "execution_count": 54,
   "metadata": {},
   "outputs": [],
   "source": [
    "gdf['infected'] = gdf['infected'].astype('float32')"
   ]
  },
  {
   "cell_type": "code",
   "execution_count": 55,
   "metadata": {},
   "outputs": [
    {
     "name": "stdout",
     "output_type": "stream",
     "text": [
      "age             int64\n",
      "sex            object\n",
      "employment     object\n",
      "infected      float32\n",
      "dtype: object\n"
     ]
    }
   ],
   "source": [
    "print(gdf.dtypes)"
   ]
  },
  {
   "cell_type": "code",
   "execution_count": 98,
   "metadata": {},
   "outputs": [
    {
     "data": {
      "text/html": [
       "<div>\n",
       "<style scoped>\n",
       "    .dataframe tbody tr th:only-of-type {\n",
       "        vertical-align: middle;\n",
       "    }\n",
       "\n",
       "    .dataframe tbody tr th {\n",
       "        vertical-align: top;\n",
       "    }\n",
       "\n",
       "    .dataframe thead th {\n",
       "        text-align: right;\n",
       "    }\n",
       "</style>\n",
       "<table border=\"1\" class=\"dataframe\">\n",
       "  <thead>\n",
       "    <tr style=\"text-align: right;\">\n",
       "      <th></th>\n",
       "      <th>age</th>\n",
       "      <th>sex</th>\n",
       "      <th>employment</th>\n",
       "      <th>infected</th>\n",
       "    </tr>\n",
       "  </thead>\n",
       "  <tbody>\n",
       "    <tr>\n",
       "      <th>0</th>\n",
       "      <td>0</td>\n",
       "      <td>m</td>\n",
       "      <td>U</td>\n",
       "      <td>0.0</td>\n",
       "    </tr>\n",
       "    <tr>\n",
       "      <th>1</th>\n",
       "      <td>0</td>\n",
       "      <td>m</td>\n",
       "      <td>U</td>\n",
       "      <td>0.0</td>\n",
       "    </tr>\n",
       "    <tr>\n",
       "      <th>2</th>\n",
       "      <td>0</td>\n",
       "      <td>m</td>\n",
       "      <td>U</td>\n",
       "      <td>0.0</td>\n",
       "    </tr>\n",
       "    <tr>\n",
       "      <th>3</th>\n",
       "      <td>0</td>\n",
       "      <td>m</td>\n",
       "      <td>U</td>\n",
       "      <td>0.0</td>\n",
       "    </tr>\n",
       "    <tr>\n",
       "      <th>4</th>\n",
       "      <td>0</td>\n",
       "      <td>m</td>\n",
       "      <td>U</td>\n",
       "      <td>0.0</td>\n",
       "    </tr>\n",
       "  </tbody>\n",
       "</table>\n",
       "</div>"
      ],
      "text/plain": [
       "   age sex employment  infected\n",
       "0    0   m          U       0.0\n",
       "1    0   m          U       0.0\n",
       "2    0   m          U       0.0\n",
       "3    0   m          U       0.0\n",
       "4    0   m          U       0.0"
      ]
     },
     "execution_count": 98,
     "metadata": {},
     "output_type": "execute_result"
    }
   ],
   "source": [
    "gdf.head()"
   ]
  },
  {
   "cell_type": "code",
   "execution_count": 57,
   "metadata": {},
   "outputs": [
    {
     "data": {
      "text/plain": [
       "0           A\n",
       "1     B, D, E\n",
       "2           C\n",
       "3           F\n",
       "4           G\n",
       "5           H\n",
       "6           I\n",
       "7           J\n",
       "8           K\n",
       "9           L\n",
       "10          M\n",
       "11          N\n",
       "12          O\n",
       "13          P\n",
       "14          Q\n",
       "15    R, S, T\n",
       "16          U\n",
       "17          V\n",
       "18          X\n",
       "19          Z\n",
       "Name: employment, dtype: object"
      ]
     },
     "execution_count": 57,
     "metadata": {},
     "output_type": "execute_result"
    }
   ],
   "source": [
    "gdf['employment'].unique()"
   ]
  },
  {
   "cell_type": "code",
   "execution_count": 58,
   "metadata": {},
   "outputs": [],
   "source": [
    "employments = np.asarray(gdf['employment'].unique().to_numpy())"
   ]
  },
  {
   "cell_type": "code",
   "execution_count": 59,
   "metadata": {},
   "outputs": [
    {
     "data": {
      "text/plain": [
       "array(['A', 'B, D, E', 'C', 'F', 'G', 'H', 'I', 'J', 'K', 'L', 'M', 'N',\n",
       "       'O', 'P', 'Q', 'R, S, T', 'U', 'V', 'X', 'Z'], dtype=object)"
      ]
     },
     "execution_count": 59,
     "metadata": {},
     "output_type": "execute_result"
    }
   ],
   "source": [
    "employments"
   ]
  },
  {
   "cell_type": "code",
   "execution_count": 60,
   "metadata": {},
   "outputs": [],
   "source": [
    "test = gdf[(gdf['employment'] == 'A')]"
   ]
  },
  {
   "cell_type": "code",
   "execution_count": 61,
   "metadata": {},
   "outputs": [
    {
     "data": {
      "text/plain": [
       "(305755, 4)"
      ]
     },
     "execution_count": 61,
     "metadata": {},
     "output_type": "execute_result"
    }
   ],
   "source": [
    "test.shape"
   ]
  },
  {
   "cell_type": "code",
   "execution_count": 62,
   "metadata": {},
   "outputs": [
    {
     "data": {
      "text/plain": [
       "(1178, 4)"
      ]
     },
     "execution_count": 62,
     "metadata": {},
     "output_type": "execute_result"
    }
   ],
   "source": [
    "test[test['infected']==1].shape"
   ]
  },
  {
   "cell_type": "code",
   "execution_count": 63,
   "metadata": {},
   "outputs": [
    {
     "name": "stdout",
     "output_type": "stream",
     "text": [
      "A\n",
      "B, D, E\n",
      "C\n",
      "F\n",
      "G\n",
      "H\n",
      "I\n",
      "J\n",
      "K\n",
      "L\n",
      "M\n",
      "N\n",
      "O\n",
      "P\n",
      "Q\n",
      "R, S, T\n",
      "U\n",
      "V\n",
      "X\n",
      "Z\n"
     ]
    }
   ],
   "source": [
    "for emp in employments:\n",
    "    print(emp)"
   ]
  },
  {
   "cell_type": "markdown",
   "metadata": {},
   "source": [
    "Now, produce a list of employment types and their associated **rates** of infection, sorted from highest to lowest rate of infection.\n",
    "\n",
    "**NOTE**: The infection **rate** for each employment type should be the percentage of total individuals within an employment type who are infected. Therefore, if employment type \"X\" has 1000 people, and 10 of them are infected, the infection **rate** would be .01. If employment type \"Z\" has 10,000 people, and 50 of them are infected, the infection rate would be .005, and would be **lower** than for type \"X\", even though more people within that employment type were infected."
   ]
  },
  {
   "cell_type": "code",
   "execution_count": 64,
   "metadata": {},
   "outputs": [],
   "source": [
    "for emp in employments:\n",
    "    empl[emp] = len(gdf[(gdf['employment'] == emp) & (gdf['infected'] == 1)])/len(gdf[gdf['employment'] == emp])"
   ]
  },
  {
   "cell_type": "code",
   "execution_count": 72,
   "metadata": {},
   "outputs": [
    {
     "data": {
      "text/plain": [
       "1178"
      ]
     },
     "execution_count": 72,
     "metadata": {},
     "output_type": "execute_result"
    }
   ],
   "source": []
  },
  {
   "cell_type": "code",
   "execution_count": 65,
   "metadata": {},
   "outputs": [
    {
     "data": {
      "text/plain": [
       "{'A': 0.003852757927098494,\n",
       " 'B, D, E': 0.003773739946793759,\n",
       " 'C': 0.003881672484213866,\n",
       " 'F': 0.0031816876627218365,\n",
       " 'G': 0.004947506173465579,\n",
       " 'H': 0.003387583295073737,\n",
       " 'I': 0.010353500473796637,\n",
       " 'J': 0.003939436042196867,\n",
       " 'K': 0.004771891810984617,\n",
       " 'L': 0.00497012728374751,\n",
       " 'M': 0.004777052804994364,\n",
       " 'N': 0.0047844510096647225,\n",
       " 'O': 0.005284125491064018,\n",
       " 'P': 0.006190311923993122,\n",
       " 'Q': 0.01275573935952277,\n",
       " 'R, S, T': 0.0053900168763782825,\n",
       " 'U': 0.0002168693362249245,\n",
       " 'V': 0.00759006367897857,\n",
       " 'X': 0.004538760797415214,\n",
       " 'Z': 0.005654639190372061}"
      ]
     },
     "execution_count": 65,
     "metadata": {},
     "output_type": "execute_result"
    }
   ],
   "source": [
    "empl"
   ]
  },
  {
   "cell_type": "markdown",
   "metadata": {},
   "source": [
    "Finally, read in the employment codes guide from `./data/code_guide.csv` to interpret which employment types are seeing the highest rates of infection."
   ]
  },
  {
   "cell_type": "code",
   "execution_count": 66,
   "metadata": {},
   "outputs": [
    {
     "data": {
      "text/plain": [
       "{'U': 0.0002168693362249245,\n",
       " 'F': 0.0031816876627218365,\n",
       " 'H': 0.003387583295073737,\n",
       " 'B, D, E': 0.003773739946793759,\n",
       " 'A': 0.003852757927098494,\n",
       " 'C': 0.003881672484213866,\n",
       " 'J': 0.003939436042196867,\n",
       " 'X': 0.004538760797415214,\n",
       " 'K': 0.004771891810984617,\n",
       " 'M': 0.004777052804994364,\n",
       " 'N': 0.0047844510096647225,\n",
       " 'G': 0.004947506173465579,\n",
       " 'L': 0.00497012728374751,\n",
       " 'O': 0.005284125491064018,\n",
       " 'R, S, T': 0.0053900168763782825,\n",
       " 'Z': 0.005654639190372061,\n",
       " 'P': 0.006190311923993122,\n",
       " 'V': 0.00759006367897857,\n",
       " 'I': 0.010353500473796637,\n",
       " 'Q': 0.01275573935952277}"
      ]
     },
     "execution_count": 66,
     "metadata": {},
     "output_type": "execute_result"
    }
   ],
   "source": [
    "{k: v for k, v in sorted(empl.items(), key=lambda item: item[1])}"
   ]
  },
  {
   "cell_type": "markdown",
   "metadata": {},
   "source": [
    "## Calculate Infection Rates by Employment Code and Sex"
   ]
  },
  {
   "cell_type": "markdown",
   "metadata": {},
   "source": [
    "We want to see if there is an effect of `sex` on infection rate, either in addition to `employment` or confounding it. Group by both `employment` and `sex` simultaneously to get the infection rate for the intersection of those categories."
   ]
  },
  {
   "cell_type": "code",
   "execution_count": 89,
   "metadata": {},
   "outputs": [],
   "source": [
    "employments_m={}"
   ]
  },
  {
   "cell_type": "code",
   "execution_count": 90,
   "metadata": {},
   "outputs": [],
   "source": [
    "for emp in employments:\n",
    "    employments_m[emp] = len(gdf[(gdf['employment'] == emp) & (gdf['infected'] == 1) & (gdf['sex'] == 'm')]) / \\\n",
    "     len(gdf[(gdf['employment'] == emp) & (gdf['sex'] == 'm')])"
   ]
  },
  {
   "cell_type": "code",
   "execution_count": 91,
   "metadata": {},
   "outputs": [
    {
     "data": {
      "text/plain": [
       "{'A': 0.002514248901693763,\n",
       " 'B, D, E': 0.002461599851171619,\n",
       " 'C': 0.002569246274720092,\n",
       " 'F': 0.0025350454699947776,\n",
       " 'G': 0.0025961112974234963,\n",
       " 'H': 0.002482170908430698,\n",
       " 'I': 0.005117046330160729,\n",
       " 'J': 0.002546083647707825,\n",
       " 'K': 0.002489851150202977,\n",
       " 'L': 0.0021967686242172803,\n",
       " 'M': 0.002519578789698296,\n",
       " 'N': 0.0025380676082357094,\n",
       " 'O': 0.0025428302565663834,\n",
       " 'P': 0.002576928363542918,\n",
       " 'Q': 0.005119846392814052,\n",
       " 'R, S, T': 0.0025419716283166644,\n",
       " 'U': 0.00010978433720486259,\n",
       " 'V': 0.0036849423268991,\n",
       " 'X': 0.002434716188475677,\n",
       " 'Z': 0.0025427433063217823}"
      ]
     },
     "execution_count": 91,
     "metadata": {},
     "output_type": "execute_result"
    }
   ],
   "source": [
    "employments_m"
   ]
  },
  {
   "cell_type": "code",
   "execution_count": 93,
   "metadata": {},
   "outputs": [
    {
     "data": {
      "text/plain": [
       "{'U': 0.00010978433720486259,\n",
       " 'L': 0.0021967686242172803,\n",
       " 'X': 0.002434716188475677,\n",
       " 'B, D, E': 0.002461599851171619,\n",
       " 'H': 0.002482170908430698,\n",
       " 'K': 0.002489851150202977,\n",
       " 'A': 0.002514248901693763,\n",
       " 'M': 0.002519578789698296,\n",
       " 'F': 0.0025350454699947776,\n",
       " 'N': 0.0025380676082357094,\n",
       " 'R, S, T': 0.0025419716283166644,\n",
       " 'Z': 0.0025427433063217823,\n",
       " 'O': 0.0025428302565663834,\n",
       " 'J': 0.002546083647707825,\n",
       " 'C': 0.002569246274720092,\n",
       " 'P': 0.002576928363542918,\n",
       " 'G': 0.0025961112974234963,\n",
       " 'V': 0.0036849423268991,\n",
       " 'I': 0.005117046330160729,\n",
       " 'Q': 0.005119846392814052}"
      ]
     },
     "execution_count": 93,
     "metadata": {},
     "output_type": "execute_result"
    }
   ],
   "source": [
    "{k: v for k, v in sorted(employments_m.items(), key=lambda item: item[1])}"
   ]
  },
  {
   "cell_type": "code",
   "execution_count": 94,
   "metadata": {},
   "outputs": [
    {
     "data": {
      "text/plain": [
       "{'U': 0.0002168693362249245,\n",
       " 'F': 0.0031816876627218365,\n",
       " 'H': 0.003387583295073737,\n",
       " 'B, D, E': 0.003773739946793759,\n",
       " 'A': 0.003852757927098494,\n",
       " 'C': 0.003881672484213866,\n",
       " 'J': 0.003939436042196867,\n",
       " 'X': 0.004538760797415214,\n",
       " 'K': 0.004771891810984617,\n",
       " 'M': 0.004777052804994364,\n",
       " 'N': 0.0047844510096647225,\n",
       " 'G': 0.004947506173465579,\n",
       " 'L': 0.00497012728374751,\n",
       " 'O': 0.005284125491064018,\n",
       " 'R, S, T': 0.0053900168763782825,\n",
       " 'Z': 0.005654639190372061,\n",
       " 'P': 0.006190311923993122,\n",
       " 'V': 0.00759006367897857,\n",
       " 'I': 0.010353500473796637,\n",
       " 'Q': 0.01275573935952277}"
      ]
     },
     "execution_count": 94,
     "metadata": {},
     "output_type": "execute_result"
    }
   ],
   "source": [
    "{k: v for k, v in sorted(empl.items(), key=lambda item: item[1])}"
   ]
  },
  {
   "cell_type": "code",
   "execution_count": 100,
   "metadata": {},
   "outputs": [],
   "source": [
    "employments_f={}"
   ]
  },
  {
   "cell_type": "code",
   "execution_count": 101,
   "metadata": {},
   "outputs": [],
   "source": [
    "for emp in employments:\n",
    "    employments_f[emp] = len(gdf[(gdf['employment'] == emp) & (gdf['infected'] == 1) & (gdf['sex'] == 'f')]) / \\\n",
    "     len(gdf[(gdf['employment'] == emp) & (gdf['sex'] == 'f')])"
   ]
  },
  {
   "cell_type": "code",
   "execution_count": 103,
   "metadata": {},
   "outputs": [
    {
     "name": "stdout",
     "output_type": "stream",
     "text": [
      "Man:\n"
     ]
    },
    {
     "data": {
      "text/plain": [
       "{'U': 0.00010978433720486259,\n",
       " 'L': 0.0021967686242172803,\n",
       " 'X': 0.002434716188475677,\n",
       " 'B, D, E': 0.002461599851171619,\n",
       " 'H': 0.002482170908430698,\n",
       " 'K': 0.002489851150202977,\n",
       " 'A': 0.002514248901693763,\n",
       " 'M': 0.002519578789698296,\n",
       " 'F': 0.0025350454699947776,\n",
       " 'N': 0.0025380676082357094,\n",
       " 'R, S, T': 0.0025419716283166644,\n",
       " 'Z': 0.0025427433063217823,\n",
       " 'O': 0.0025428302565663834,\n",
       " 'J': 0.002546083647707825,\n",
       " 'C': 0.002569246274720092,\n",
       " 'P': 0.002576928363542918,\n",
       " 'G': 0.0025961112974234963,\n",
       " 'V': 0.0036849423268991,\n",
       " 'I': 0.005117046330160729,\n",
       " 'Q': 0.005119846392814052}"
      ]
     },
     "execution_count": 103,
     "metadata": {},
     "output_type": "execute_result"
    }
   ],
   "source": [
    "print('Man:')\n",
    "{k: v for k, v in sorted(employments_m.items(), key=lambda item: item[1])}"
   ]
  },
  {
   "cell_type": "code",
   "execution_count": 104,
   "metadata": {},
   "outputs": [
    {
     "name": "stdout",
     "output_type": "stream",
     "text": [
      "Female:\n"
     ]
    },
    {
     "data": {
      "text/plain": [
       "{'U': 0.0003294440495835521,\n",
       " 'L': 0.007221217096662867,\n",
       " 'H': 0.007385432843682105,\n",
       " 'N': 0.007388874673439539,\n",
       " 'X': 0.007391298719790817,\n",
       " 'A': 0.007491274367923725,\n",
       " 'G': 0.007555738052693474,\n",
       " 'F': 0.007577209017517365,\n",
       " 'P': 0.007583796037232645,\n",
       " 'Z': 0.007628532674673546,\n",
       " 'C': 0.007630093752361246,\n",
       " 'J': 0.007644520496986831,\n",
       " 'M': 0.007645297567778188,\n",
       " 'K': 0.007672137515781295,\n",
       " 'O': 0.007718923038158275,\n",
       " 'R, S, T': 0.007748406237713437,\n",
       " 'B, D, E': 0.00797321551843159,\n",
       " 'V': 0.010851510957458253,\n",
       " 'Q': 0.014946907072570206,\n",
       " 'I': 0.01506411156033882}"
      ]
     },
     "execution_count": 104,
     "metadata": {},
     "output_type": "execute_result"
    }
   ],
   "source": [
    "print('Female:')\n",
    "{k: v for k, v in sorted(employments_f.items(), key=lambda item: item[1])}"
   ]
  },
  {
   "cell_type": "code",
   "execution_count": 105,
   "metadata": {},
   "outputs": [
    {
     "name": "stdout",
     "output_type": "stream",
     "text": [
      "Without sex:\n"
     ]
    },
    {
     "data": {
      "text/plain": [
       "{'U': 0.0002168693362249245,\n",
       " 'F': 0.0031816876627218365,\n",
       " 'H': 0.003387583295073737,\n",
       " 'B, D, E': 0.003773739946793759,\n",
       " 'A': 0.003852757927098494,\n",
       " 'C': 0.003881672484213866,\n",
       " 'J': 0.003939436042196867,\n",
       " 'X': 0.004538760797415214,\n",
       " 'K': 0.004771891810984617,\n",
       " 'M': 0.004777052804994364,\n",
       " 'N': 0.0047844510096647225,\n",
       " 'G': 0.004947506173465579,\n",
       " 'L': 0.00497012728374751,\n",
       " 'O': 0.005284125491064018,\n",
       " 'R, S, T': 0.0053900168763782825,\n",
       " 'Z': 0.005654639190372061,\n",
       " 'P': 0.006190311923993122,\n",
       " 'V': 0.00759006367897857,\n",
       " 'I': 0.010353500473796637,\n",
       " 'Q': 0.01275573935952277}"
      ]
     },
     "execution_count": 105,
     "metadata": {},
     "output_type": "execute_result"
    }
   ],
   "source": [
    "print('Without sex:')\n",
    "{k: v for k, v in sorted(empl.items(), key=lambda item: item[1])}"
   ]
  },
  {
   "cell_type": "code",
   "execution_count": null,
   "metadata": {},
   "outputs": [],
   "source": [
    "len(gd)"
   ]
  },
  {
   "cell_type": "markdown",
   "metadata": {},
   "source": [
    "## Take the Assessment"
   ]
  },
  {
   "cell_type": "markdown",
   "metadata": {},
   "source": [
    "After completing the work above, visit the *Launch Section* web page that you used to launch this Jupyter Lab. Scroll down below where you launched Jupyter Lab, and answer the question *Week 3 Assessment*. You can view your overall progress in the assessment by visiting the same *Launch Section* page and clicking on the link to the *Progress* page. On the *Progress* page, if you have successfully answered all the assessment questions, you can click on *Generate Certificate* to receive your certificate in the course."
   ]
  },
  {
   "cell_type": "markdown",
   "metadata": {},
   "source": [
    "![launch_task_page](./images/launch_task_page.png)"
   ]
  },
  {
   "cell_type": "markdown",
   "metadata": {},
   "source": [
    "<div align=\"center\"><h2>Optional: Restart the Kernel</h2></div>"
   ]
  },
  {
   "cell_type": "markdown",
   "metadata": {},
   "source": [
    "If you plan to continue work in other notebooks, please shutdown the kernel."
   ]
  },
  {
   "cell_type": "code",
   "execution_count": null,
   "metadata": {},
   "outputs": [],
   "source": [
    "import IPython\n",
    "app = IPython.Application.instance()\n",
    "app.kernel.do_shutdown(True)"
   ]
  }
 ],
 "metadata": {
  "kernelspec": {
   "display_name": "Python 3 (ipykernel)",
   "language": "python",
   "name": "python3"
  },
  "language_info": {
   "codemirror_mode": {
    "name": "ipython",
    "version": 3
   },
   "file_extension": ".py",
   "mimetype": "text/x-python",
   "name": "python",
   "nbconvert_exporter": "python",
   "pygments_lexer": "ipython3",
   "version": "3.8.12"
  }
 },
 "nbformat": 4,
 "nbformat_minor": 4
}
